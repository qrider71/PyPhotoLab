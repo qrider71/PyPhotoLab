{
 "cells": [
  {
   "cell_type": "code",
   "execution_count": 1,
   "metadata": {
    "collapsed": true
   },
   "outputs": [
    {
     "name": "stdout",
     "output_type": "stream",
     "text": [
      "Hello World\n",
      "Start clustering\n"
     ]
    }
   ],
   "source": [
    "import main as x\n",
    "\n",
    "print(\"Hello World\")\n",
    "\n",
    "x.test()"
   ]
  },
  {
   "cell_type": "code",
   "execution_count": 2,
   "metadata": {
    "pycharm": {
     "name": "#%%\n"
    }
   },
   "outputs": [],
   "source": [
    "import numpy as np\n",
    "from scipy.spatial import ConvexHull, convex_hull_plot_2d\n",
    "points = np.random.rand(30, 2)   # 30 random points in 2-D\n",
    "hull = ConvexHull(points)"
   ]
  },
  {
   "cell_type": "code",
   "execution_count": 9,
   "metadata": {},
   "outputs": [
    {
     "data": {
      "text/plain": [
       "array([[ 3, 10],\n",
       "       [ 3,  1],\n",
       "       [15, 14],\n",
       "       [15,  1],\n",
       "       [27, 10],\n",
       "       [27, 19],\n",
       "       [13, 19],\n",
       "       [25, 14],\n",
       "       [25, 13]], dtype=int32)"
      ]
     },
     "execution_count": 9,
     "metadata": {},
     "output_type": "execute_result"
    }
   ],
   "source": [
    "hull.simplices"
   ]
  },
  {
   "cell_type": "code",
   "execution_count": 10,
   "metadata": {},
   "outputs": [
    {
     "data": {
      "text/plain": [
       "array([10,  3,  1, 15, 14, 25, 13, 19, 27], dtype=int32)"
      ]
     },
     "execution_count": 10,
     "metadata": {},
     "output_type": "execute_result"
    }
   ],
   "source": [
    "hull.vertices"
   ]
  },
  {
   "cell_type": "code",
   "execution_count": 11,
   "metadata": {},
   "outputs": [
    {
     "data": {
      "text/plain": [
       "array([[0.66632769, 0.35023018],\n",
       "       [0.72857368, 0.04785647],\n",
       "       [0.48938816, 0.80490135],\n",
       "       [0.15407634, 0.10305621],\n",
       "       [0.87748449, 0.26673124],\n",
       "       [0.37259226, 0.10368756],\n",
       "       [0.93594387, 0.08138617],\n",
       "       [0.31855286, 0.75221032],\n",
       "       [0.3348498 , 0.11944986],\n",
       "       [0.54969655, 0.88579793],\n",
       "       [0.01511532, 0.25808717],\n",
       "       [0.61570964, 0.43888495],\n",
       "       [0.69914398, 0.13743103],\n",
       "       [0.75831838, 0.93052038],\n",
       "       [0.97880992, 0.5928332 ],\n",
       "       [0.95572603, 0.06447644],\n",
       "       [0.61484071, 0.52939009],\n",
       "       [0.82758267, 0.55785711],\n",
       "       [0.90579843, 0.59361632],\n",
       "       [0.05594507, 0.85757894],\n",
       "       [0.64068111, 0.88673064],\n",
       "       [0.35261495, 0.79066687],\n",
       "       [0.60014496, 0.36715144],\n",
       "       [0.32055776, 0.19782883],\n",
       "       [0.47463865, 0.41023098],\n",
       "       [0.96867143, 0.86809825],\n",
       "       [0.75643005, 0.60691562],\n",
       "       [0.01676826, 0.65071693],\n",
       "       [0.32147713, 0.47550942],\n",
       "       [0.71603916, 0.32806523]])"
      ]
     },
     "execution_count": 11,
     "metadata": {},
     "output_type": "execute_result"
    }
   ],
   "source": [
    "points"
   ]
  },
  {
   "cell_type": "code",
   "execution_count": 14,
   "metadata": {},
   "outputs": [
    {
     "data": {
      "text/plain": [
       "0.7660442340295488"
      ]
     },
     "execution_count": 14,
     "metadata": {},
     "output_type": "execute_result"
    }
   ],
   "source": [
    "hull.volume"
   ]
  },
  {
   "cell_type": "code",
   "execution_count": 15,
   "metadata": {},
   "outputs": [
    {
     "data": {
      "text/plain": [
       "3.3461517185729446"
      ]
     },
     "execution_count": 15,
     "metadata": {},
     "output_type": "execute_result"
    }
   ],
   "source": [
    "hull.area"
   ]
  },
  {
   "cell_type": "code",
   "execution_count": null,
   "metadata": {},
   "outputs": [],
   "source": []
  }
 ],
 "metadata": {
  "kernelspec": {
   "display_name": "Python 3",
   "language": "python",
   "name": "python3"
  },
  "language_info": {
   "codemirror_mode": {
    "name": "ipython",
    "version": 3
   },
   "file_extension": ".py",
   "mimetype": "text/x-python",
   "name": "python",
   "nbconvert_exporter": "python",
   "pygments_lexer": "ipython3",
   "version": "3.8.8"
  }
 },
 "nbformat": 4,
 "nbformat_minor": 1
}
